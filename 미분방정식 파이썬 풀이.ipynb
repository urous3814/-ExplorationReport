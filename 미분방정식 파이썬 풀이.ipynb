{
  "nbformat": 4,
  "nbformat_minor": 0,
  "metadata": {
    "colab": {
      "name": "differentialipynb",
      "provenance": [],
      "authorship_tag": "ABX9TyN8Gtlaos/8EEGQILRszbh+",
      "include_colab_link": true
    },
    "kernelspec": {
      "name": "python3",
      "display_name": "Python 3"
    },
    "language_info": {
      "name": "python"
    }
  },
  "cells": [
    {
      "cell_type": "markdown",
      "metadata": {
        "id": "view-in-github",
        "colab_type": "text"
      },
      "source": [
        "<a href=\"https://colab.research.google.com/github/urous3814/Exploration_Report/blob/main/%EB%AF%B8%EB%B6%84%EB%B0%A9%EC%A0%95%EC%8B%9D%20%ED%8C%8C%EC%9D%B4%EC%8D%AC%20%ED%92%80%EC%9D%B4.ipynb\" target=\"_parent\"><img src=\"https://colab.research.google.com/assets/colab-badge.svg\" alt=\"Open In Colab\"/></a>"
      ]
    },
    {
      "cell_type": "code",
      "execution_count": 1,
      "metadata": {
        "id": "YohhYleY50Mq"
      },
      "outputs": [],
      "source": [
        "import sympy as sp\n",
        "from sympy import Function\n",
        "import matplotlib.pyplot as pyplot\n",
        "%matplotlib inline \n",
        "sp.init_printing(use_latex=True)"
      ]
    },
    {
      "cell_type": "code",
      "source": [
        "x = sp.symbols('x', cls=Function)\n",
        "t = sp.symbols('t')\n",
        "k = sp.symbols('k')\n",
        "m = sp.symbols('m')\n",
        "y=x(t)"
      ],
      "metadata": {
        "id": "pUC-vZyF6Rg6"
      },
      "execution_count": 2,
      "outputs": []
    },
    {
      "cell_type": "code",
      "source": [
        "eq = sp.Eq(k*y+m*sp.diff(y, t, 2), 0)\n",
        "eq"
      ],
      "metadata": {
        "id": "VNGS1hta6zdd",
        "outputId": "f30dcbee-039a-4629-f34f-8853f33829e0",
        "colab": {
          "base_uri": "https://localhost:8080/",
          "height": 54
        }
      },
      "execution_count": 3,
      "outputs": [
        {
          "output_type": "execute_result",
          "data": {
            "text/plain": [
              "             2          \n",
              "            d           \n",
              "k⋅x(t) + m⋅───(x(t)) = 0\n",
              "             2          \n",
              "           dt           "
            ],
            "image/png": "[encoded data removed]",
            "text/latex": "$\\displaystyle k x{\\left(t \\right)} + m \\frac{d^{2}}{d t^{2}} x{\\left(t \\right)} = 0$"
          },
          "metadata": {},
          "execution_count": 3
        }
      ]
    },
    {
      "cell_type": "code",
      "source": [
        "eql=eq.subs([(k,2), (m,2.5)])\n",
        "sp.dsolve(eql, y)"
      ],
      "metadata": {
        "colab": {
          "base_uri": "https://localhost:8080/",
          "height": 39
        },
        "id": "mIHc3P5N7lir",
        "outputId": "8ea60dfa-bd7e-49f7-f9d3-9d0e5537e6fb"
      },
      "execution_count": 4,
      "outputs": [
        {
          "output_type": "execute_result",
          "data": {
            "text/plain": [
              "x(t) = C₁⋅sin(0.894427190999916⋅t) + C₂⋅cos(0.894427190999916⋅t)"
            ],
            "image/png": "[encoded data removed]",
            "text/latex": "$\\displaystyle x{\\left(t \\right)} = C_{1} \\sin{\\left(0.894427190999916 t \\right)} + C_{2} \\cos{\\left(0.894427190999916 t \\right)}$"
          },
          "metadata": {},
          "execution_count": 4
        }
      ]
    },
    {
      "cell_type": "code",
      "source": [
        "sol = sp.dsolve(eql, ics= { x(0):1, x(t).diff(t).subs(t,0):1/2 } )\n",
        "sol"
      ],
      "metadata": {
        "colab": {
          "base_uri": "https://localhost:8080/",
          "height": 39
        },
        "id": "QHo9VBjlD0OZ",
        "outputId": "ebc696b5-1633-4d9f-b934-9d6f62287845"
      },
      "execution_count": 5,
      "outputs": [
        {
          "output_type": "execute_result",
          "data": {
            "text/plain": [
              "x(t) = 0.559016994374947⋅sin(0.894427190999916⋅t) + 1.0⋅cos(0.894427190999916⋅\n",
              "t)"
            ],
            "image/png": "[encoded data removed]",
            "text/latex": "$\\displaystyle x{\\left(t \\right)} = 0.559016994374947 \\sin{\\left(0.894427190999916 t \\right)} + 1.0 \\cos{\\left(0.894427190999916 t \\right)}$"
          },
          "metadata": {},
          "execution_count": 5
        }
      ]
    }
  ]
}